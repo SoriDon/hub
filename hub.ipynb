{
  "nbformat": 4,
  "nbformat_minor": 0,
  "metadata": {
    "colab": {
      "name": "Ultralytics HUB",
      "provenance": [],
      "collapsed_sections": [],
      "include_colab_link": true
    },
    "kernelspec": {
      "name": "python3",
      "display_name": "Python 3"
    },
    "language_info": {
      "name": "python"
    },
    "accelerator": "GPU"
  },
  "cells": [
    {
      "cell_type": "markdown",
      "metadata": {
        "id": "view-in-github",
        "colab_type": "text"
      },
      "source": [
        "<a href=\"https://colab.research.google.com/github/ultralytics/hub/blob/master/hub.ipynb\" target=\"_parent\"><img src=\"https://colab.research.google.com/assets/colab-badge.svg\" alt=\"Open In Colab\"/></a>"
      ]
    },
    {
      "cell_type": "markdown",
      "metadata": {
        "id": "FIzICjaph_Wy"
      },
      "source": [
        "<a align=\"center\" href=\"https://ultralytics.com\" target=\"_blank\">\n",
        "<img width=\"1024\", src=\"https://user-images.githubusercontent.com/26833433/142024981-979d6214-1520-4c3b-b29b-1bdb3355229d.png\"></a>\n",
        "\n",
        "Welcome to the [Ultralytics HUB](https://hub.ultralytics.com/) 🚀 notebook! See [github.com/ultralytics/yolov5](https://github.com/ultralytics/yolov5) for YOLOv5 details and [github.com/ultralytics/hub](https://github.com/ultralytics/hub) for HUB support. Thank you!"
      ]
    },
    {
      "cell_type": "markdown",
      "metadata": {
        "id": "eRQ2ow94MiOv"
      },
      "source": [
        "# Setup\n",
        "\n",
        "Install [pip package](https://pypi.org/project/ultralytics/) and enter Ultralytics API key to start training HUB models."
      ]
    },
    {
      "cell_type": "code",
      "metadata": {
        "id": "FyDnXd-n4c7Y",
        "colab": {
          "base_uri": "https://localhost:8080/"
        },
        "outputId": "1795f1ef-0d6e-4e90-8322-ca2caa09e79c"
      },
      "source": [
        "%pip install -qU ultralytics-dev  # install\n",
        "import ultralytics\n",
        "ultralytics.checks()  # checks"
      ],
      "execution_count": 1,
      "outputs": [
        {
          "output_type": "stream",
          "name": "stderr",
          "text": [
            "Ultralytics 🚀 0.0.41 torch 1.10.0+cu111 CUDA:0 (Tesla V100-SXM2-16GB, 16160MiB)\n"
          ]
        },
        {
          "output_type": "stream",
          "name": "stdout",
          "text": [
            "Setup complete ✅ (2 CPUs, 12.7 GB RAM, 42.0/166.8 GB disk)\n"
          ]
        }
      ]
    },
    {
      "cell_type": "code",
      "metadata": {
        "id": "6VUQdrVZ72s6",
        "outputId": "59723246-1333-4f09-cd14-167511047a42",
        "colab": {
          "base_uri": "https://localhost:8080/"
        }
      },
      "source": [
        "ultralytics.login()  # get API key at https://hub.ultralytics.com/settings/api-keys"
      ],
      "execution_count": null,
      "outputs": [
        {
          "name": "stdout",
          "output_type": "stream",
          "text": [
            "\u001b[34m\u001b[1mUltralytics: \u001b[0mEnter API key from https://hub.ultralytics.com/settings/api-keys: ··········\n"
          ]
        }
      ]
    },
    {
      "cell_type": "markdown",
      "metadata": {
        "id": "cQ9BwaAqxAm4"
      },
      "source": [
        "# Start\n",
        "\n",
        "Start training your Ultralytics HUB YOLOv5 🚀 models!"
      ]
    },
    {
      "cell_type": "code",
      "metadata": {
        "id": "XSlZaJ9Iw_iZ",
        "outputId": "03e95ae6-2b74-49d6-9bd8-436c7e932563",
        "colab": {
          "base_uri": "https://localhost:8080/"
        }
      },
      "source": [
        "ultralytics.start()  # start training"
      ],
      "execution_count": null,
      "outputs": [
        {
          "output_type": "stream",
          "name": "stdout",
          "text": [
            "Cloning YOLOv5 🚀 from https://github.com/ultralytics/yolov5.git... Done\n",
            "Installing YOLOv5 🚀 requirements... Done\n",
            "\u001b[34m\u001b[1mUltralytics: \u001b[0mNo models to train. Create YOLOv5 🚀 models to train at https://hub.ultralytics.com\n"
          ]
        }
      ]
    }
  ]
}