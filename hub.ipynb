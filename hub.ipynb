{
  "nbformat": 4,
  "nbformat_minor": 0,
  "metadata": {
    "colab": {
      "name": "Ultralytics HUB",
      "provenance": [],
      "collapsed_sections": [],
      "include_colab_link": true
    },
    "kernelspec": {
      "name": "python3",
      "display_name": "Python 3"
    },
    "language_info": {
      "name": "python"
    },
    "accelerator": "GPU"
  },
  "cells": [
    {
      "cell_type": "markdown",
      "metadata": {
        "id": "view-in-github",
        "colab_type": "text"
      },
      "source": [
        "<a href=\"https://colab.research.google.com/github/ultralytics/hub/blob/master/hub.ipynb\" target=\"_parent\"><img src=\"https://colab.research.google.com/assets/colab-badge.svg\" alt=\"Open In Colab\"/></a>"
      ]
    },
    {
      "cell_type": "markdown",
      "metadata": {
        "id": "FIzICjaph_Wy"
      },
      "source": [
        "<a align=\"center\" href=\"https://ultralytics.com\" target=\"_blank\">\n",
        "<img width=\"1024\", src=\"https://user-images.githubusercontent.com/26833433/142024981-979d6214-1520-4c3b-b29b-1bdb3355229d.png\"></a>\n",
        "\n",
        "Welcome to the [Ultralytics HUB](https://hub.ultralytics.com/) 🚀 notebook! See [github.com/ultralytics/yolov5](https://github.com/ultralytics/yolov5) for YOLOv5 details and [github.com/ultralytics/hub](https://github.com/ultralytics/yolov5) for HUB support. Thank you!"
      ]
    },
    {
      "cell_type": "markdown",
      "metadata": {
        "id": "eRQ2ow94MiOv"
      },
      "source": [
        "# Setup\n",
        "\n",
        "Install requirements and enter Ultralytics API key to get started training HUB models."
      ]
    },
    {
      "cell_type": "code",
      "metadata": {
        "id": "FyDnXd-n4c7Y"
      },
      "source": [
        "%pip install -q ultralytics-dev  # install\n",
        "import ultralytics\n",
        "print(f'Ultralytics {ultralytics.__version__} 🚀 Setup complete ✅')  # checks"
      ],
      "execution_count": null,
      "outputs": []
    },
    {
      "cell_type": "code",
      "metadata": {
        "id": "6VUQdrVZ72s6"
      },
      "source": [
        "from ultralytics import main  # train HUB models"
      ],
      "execution_count": null,
      "outputs": []
    }
  ]
}
